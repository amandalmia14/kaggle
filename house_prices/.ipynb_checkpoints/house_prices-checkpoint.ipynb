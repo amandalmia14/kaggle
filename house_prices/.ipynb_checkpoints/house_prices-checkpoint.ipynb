{
 "cells": [
  {
   "cell_type": "code",
   "execution_count": 1,
   "metadata": {
    "scrolled": true
   },
   "outputs": [],
   "source": [
    "# Data Analysis Libraries\n",
    "import csv\n",
    "import numpy as np\n",
    "import pandas as pd\n",
    "\n",
    "# Machine Learning Libraries\n",
    "from sklearn.preprocessing import LabelEncoder, power_transform\n",
    "from sklearn.model_selection import cross_val_score\n",
    "from sklearn.linear_model import LinearRegression"
   ]
  },
  {
   "cell_type": "code",
   "execution_count": 2,
   "metadata": {
    "scrolled": true
   },
   "outputs": [],
   "source": [
    "train = pd.read_csv('data/train.csv')\n",
    "test = pd.read_csv('data/test.csv')"
   ]
  },
  {
   "cell_type": "code",
   "execution_count": 3,
   "metadata": {
    "scrolled": true
   },
   "outputs": [
    {
     "name": "stdout",
     "output_type": "stream",
     "text": [
      "<class 'pandas.core.frame.DataFrame'>\n",
      "RangeIndex: 1460 entries, 0 to 1459\n",
      "Data columns (total 81 columns):\n",
      "Id               1460 non-null int64\n",
      "MSSubClass       1460 non-null int64\n",
      "MSZoning         1460 non-null object\n",
      "LotFrontage      1201 non-null float64\n",
      "LotArea          1460 non-null int64\n",
      "Street           1460 non-null object\n",
      "Alley            91 non-null object\n",
      "LotShape         1460 non-null object\n",
      "LandContour      1460 non-null object\n",
      "Utilities        1460 non-null object\n",
      "LotConfig        1460 non-null object\n",
      "LandSlope        1460 non-null object\n",
      "Neighborhood     1460 non-null object\n",
      "Condition1       1460 non-null object\n",
      "Condition2       1460 non-null object\n",
      "BldgType         1460 non-null object\n",
      "HouseStyle       1460 non-null object\n",
      "OverallQual      1460 non-null int64\n",
      "OverallCond      1460 non-null int64\n",
      "YearBuilt        1460 non-null int64\n",
      "YearRemodAdd     1460 non-null int64\n",
      "RoofStyle        1460 non-null object\n",
      "RoofMatl         1460 non-null object\n",
      "Exterior1st      1460 non-null object\n",
      "Exterior2nd      1460 non-null object\n",
      "MasVnrType       1452 non-null object\n",
      "MasVnrArea       1452 non-null float64\n",
      "ExterQual        1460 non-null object\n",
      "ExterCond        1460 non-null object\n",
      "Foundation       1460 non-null object\n",
      "BsmtQual         1423 non-null object\n",
      "BsmtCond         1423 non-null object\n",
      "BsmtExposure     1422 non-null object\n",
      "BsmtFinType1     1423 non-null object\n",
      "BsmtFinSF1       1460 non-null int64\n",
      "BsmtFinType2     1422 non-null object\n",
      "BsmtFinSF2       1460 non-null int64\n",
      "BsmtUnfSF        1460 non-null int64\n",
      "TotalBsmtSF      1460 non-null int64\n",
      "Heating          1460 non-null object\n",
      "HeatingQC        1460 non-null object\n",
      "CentralAir       1460 non-null object\n",
      "Electrical       1459 non-null object\n",
      "1stFlrSF         1460 non-null int64\n",
      "2ndFlrSF         1460 non-null int64\n",
      "LowQualFinSF     1460 non-null int64\n",
      "GrLivArea        1460 non-null int64\n",
      "BsmtFullBath     1460 non-null int64\n",
      "BsmtHalfBath     1460 non-null int64\n",
      "FullBath         1460 non-null int64\n",
      "HalfBath         1460 non-null int64\n",
      "BedroomAbvGr     1460 non-null int64\n",
      "KitchenAbvGr     1460 non-null int64\n",
      "KitchenQual      1460 non-null object\n",
      "TotRmsAbvGrd     1460 non-null int64\n",
      "Functional       1460 non-null object\n",
      "Fireplaces       1460 non-null int64\n",
      "FireplaceQu      770 non-null object\n",
      "GarageType       1379 non-null object\n",
      "GarageYrBlt      1379 non-null float64\n",
      "GarageFinish     1379 non-null object\n",
      "GarageCars       1460 non-null int64\n",
      "GarageArea       1460 non-null int64\n",
      "GarageQual       1379 non-null object\n",
      "GarageCond       1379 non-null object\n",
      "PavedDrive       1460 non-null object\n",
      "WoodDeckSF       1460 non-null int64\n",
      "OpenPorchSF      1460 non-null int64\n",
      "EnclosedPorch    1460 non-null int64\n",
      "3SsnPorch        1460 non-null int64\n",
      "ScreenPorch      1460 non-null int64\n",
      "PoolArea         1460 non-null int64\n",
      "PoolQC           7 non-null object\n",
      "Fence            281 non-null object\n",
      "MiscFeature      54 non-null object\n",
      "MiscVal          1460 non-null int64\n",
      "MoSold           1460 non-null int64\n",
      "YrSold           1460 non-null int64\n",
      "SaleType         1460 non-null object\n",
      "SaleCondition    1460 non-null object\n",
      "SalePrice        1460 non-null int64\n",
      "dtypes: float64(3), int64(35), object(43)\n",
      "memory usage: 924.0+ KB\n"
     ]
    }
   ],
   "source": [
    "train.info()"
   ]
  },
  {
   "cell_type": "code",
   "execution_count": 4,
   "metadata": {
    "scrolled": true
   },
   "outputs": [],
   "source": [
    "all_data = pd.concat((train.loc[:,'MSSubClass':'SaleCondition'], test.loc[:,'MSSubClass':'SaleCondition']))"
   ]
  },
  {
   "cell_type": "code",
   "execution_count": 5,
   "metadata": {
    "scrolled": false
   },
   "outputs": [],
   "source": [
    "for i in all_data.columns.values:\n",
    "    if all_data[i].dtypes != \"object\":\n",
    "        # If the data is 10% of it then we can categorize it and make it to str type.\n",
    "        if (len(all_data[i].unique()) < (len(all_data[i])/10)):\n",
    "            all_data[i] = all_data[i].astype(str)\n",
    "\n",
    "        if all_data[i].isna().sum() > 0:\n",
    "            all_data[i] = all_data[i].fillna(0)\n",
    "\n",
    "    elif all_data[i].dtypes == \"object\":\n",
    "        if all_data[i].isna().sum() > 0:\n",
    "            all_data[i] = all_data[i].replace({np.nan: \"None\"})        "
   ]
  },
  {
   "cell_type": "code",
   "execution_count": 6,
   "metadata": {
    "scrolled": true
   },
   "outputs": [
    {
     "name": "stdout",
     "output_type": "stream",
     "text": [
      "['60' '20' '70' '50' '190' '45' '90' '120' '30' '85' '80' '160' '75' '180'\n",
      " '40' '150']\n",
      "['RL' 'RM' 'C (all)' 'FV' 'RH' 'None']\n",
      "object\n",
      "int64\n",
      "['Pave' 'Grvl']\n",
      "['None' 'Grvl' 'Pave']\n",
      "['Reg' 'IR1' 'IR2' 'IR3']\n",
      "['Lvl' 'Bnk' 'Low' 'HLS']\n",
      "['AllPub' 'NoSeWa' 'None']\n",
      "['Inside' 'FR2' 'Corner' 'CulDSac' 'FR3']\n",
      "['Gtl' 'Mod' 'Sev']\n",
      "['CollgCr' 'Veenker' 'Crawfor' 'NoRidge' 'Mitchel' 'Somerst' 'NWAmes'\n",
      " 'OldTown' 'BrkSide' 'Sawyer' 'NridgHt' 'NAmes' 'SawyerW' 'IDOTRR'\n",
      " 'MeadowV' 'Edwards' 'Timber' 'Gilbert' 'StoneBr' 'ClearCr' 'NPkVill'\n",
      " 'Blmngtn' 'BrDale' 'SWISU' 'Blueste']\n",
      "['Norm' 'Feedr' 'PosN' 'Artery' 'RRAe' 'RRNn' 'RRAn' 'PosA' 'RRNe']\n",
      "['Norm' 'Artery' 'RRNn' 'Feedr' 'PosN' 'PosA' 'RRAn' 'RRAe']\n",
      "['1Fam' '2fmCon' 'Duplex' 'TwnhsE' 'Twnhs']\n",
      "['2Story' '1Story' '1.5Fin' '1.5Unf' 'SFoyer' 'SLvl' '2.5Unf' '2.5Fin']\n",
      "['7' '6' '8' '5' '9' '4' '10' '3' '1' '2']\n",
      "['5' '8' '6' '7' '4' '2' '3' '9' '1']\n",
      "object\n",
      "object\n",
      "['Gable' 'Hip' 'Gambrel' 'Mansard' 'Flat' 'Shed']\n",
      "['CompShg' 'WdShngl' 'Metal' 'WdShake' 'Membran' 'Tar&Grv' 'Roll'\n",
      " 'ClyTile']\n",
      "['VinylSd' 'MetalSd' 'Wd Sdng' 'HdBoard' 'BrkFace' 'WdShing' 'CemntBd'\n",
      " 'Plywood' 'AsbShng' 'Stucco' 'BrkComm' 'AsphShn' 'Stone' 'ImStucc'\n",
      " 'CBlock' 'None']\n",
      "['VinylSd' 'MetalSd' 'Wd Shng' 'HdBoard' 'Plywood' 'Wd Sdng' 'CmentBd'\n",
      " 'BrkFace' 'Stucco' 'AsbShng' 'Brk Cmn' 'ImStucc' 'AsphShn' 'Stone'\n",
      " 'Other' 'CBlock' 'None']\n",
      "['BrkFace' 'None' 'Stone' 'BrkCmn']\n",
      "float64\n",
      "['Gd' 'TA' 'Ex' 'Fa']\n",
      "['TA' 'Gd' 'Fa' 'Po' 'Ex']\n",
      "['PConc' 'CBlock' 'BrkTil' 'Wood' 'Slab' 'Stone']\n",
      "['Gd' 'TA' 'Ex' 'None' 'Fa']\n",
      "['TA' 'Gd' 'None' 'Fa' 'Po']\n",
      "['No' 'Gd' 'Mn' 'Av' 'None']\n",
      "['GLQ' 'ALQ' 'Unf' 'Rec' 'BLQ' 'None' 'LwQ']\n",
      "float64\n",
      "['Unf' 'BLQ' 'None' 'ALQ' 'Rec' 'LwQ' 'GLQ']\n",
      "object\n",
      "float64\n",
      "float64\n",
      "['GasA' 'GasW' 'Grav' 'Wall' 'OthW' 'Floor']\n",
      "['Ex' 'Gd' 'TA' 'Fa' 'Po']\n",
      "['Y' 'N']\n",
      "['SBrkr' 'FuseF' 'FuseA' 'FuseP' 'Mix' 'None']\n",
      "int64\n",
      "int64\n",
      "['0' '360' '513' '234' '528' '572' '144' '392' '371' '390' '420' '473'\n",
      " '156' '515' '80' '53' '232' '481' '120' '514' '397' '479' '205' '384'\n",
      " '362' '1064' '431' '436' '259' '312' '108' '697' '512' '114' '140' '450']\n",
      "int64\n",
      "['1.0' '0.0' '2.0' '3.0' 'nan']\n",
      "['0.0' '1.0' '2.0' 'nan']\n",
      "['2' '1' '3' '0' '4']\n",
      "['1' '0' '2']\n",
      "['3' '4' '1' '2' '0' '5' '6' '8']\n",
      "['1' '2' '3' '0']\n",
      "['Gd' 'TA' 'Ex' 'Fa' 'None']\n",
      "['8' '6' '7' '9' '5' '11' '4' '10' '12' '3' '2' '14' '13' '15']\n",
      "['Typ' 'Min1' 'Maj1' 'Min2' 'Mod' 'Maj2' 'Sev' 'None']\n",
      "['0' '1' '2' '3' '4']\n",
      "['None' 'TA' 'Gd' 'Fa' 'Ex' 'Po']\n",
      "['Attchd' 'Detchd' 'BuiltIn' 'CarPort' 'None' 'Basment' '2Types']\n",
      "object\n",
      "['RFn' 'Unf' 'Fin' 'None']\n",
      "['2.0' '3.0' '1.0' '0.0' '4.0' '5.0' 'nan']\n",
      "float64\n",
      "['TA' 'Fa' 'Gd' 'None' 'Ex' 'Po']\n",
      "['TA' 'Fa' 'None' 'Gd' 'Po' 'Ex']\n",
      "['Y' 'N' 'P']\n",
      "int64\n",
      "object\n",
      "object\n",
      "['0' '320' '407' '130' '180' '168' '140' '508' '238' '245' '196' '144'\n",
      " '182' '162' '23' '216' '96' '153' '290' '304' '224' '255' '225' '360'\n",
      " '150' '174' '120' '219' '176' '86' '323']\n",
      "object\n",
      "['0' '512' '648' '576' '555' '480' '519' '738' '144' '368' '444' '228'\n",
      " '561' '800']\n",
      "['None' 'Ex' 'Fa' 'Gd']\n",
      "['None' 'MnPrv' 'GdWo' 'GdPrv' 'MnWw']\n",
      "['None' 'Shed' 'Gar2' 'Othr' 'TenC']\n",
      "['0' '700' '350' '500' '400' '480' '450' '15500' '1200' '800' '2000' '600'\n",
      " '3500' '1300' '54' '620' '560' '1400' '8300' '1150' '2500' '12500' '1500'\n",
      " '300' '80' '490' '650' '900' '750' '6500' '1000' '4500' '3000' '17000'\n",
      " '1512' '455' '460' '420']\n",
      "['2' '5' '9' '12' '10' '8' '11' '4' '1' '7' '3' '6']\n",
      "['2008' '2007' '2006' '2009' '2010']\n",
      "['WD' 'New' 'COD' 'ConLD' 'ConLI' 'CWD' 'ConLw' 'Con' 'Oth' 'None']\n",
      "['Normal' 'Abnorml' 'Partial' 'AdjLand' 'Alloca' 'Family']\n"
     ]
    }
   ],
   "source": [
    "for i in all_data.columns.values:\n",
    "    if len(all_data[i].unique()) < 50:\n",
    "        print (all_data[i].unique())\n",
    "    else:\n",
    "        print(all_data[i].dtypes)"
   ]
  },
  {
   "cell_type": "code",
   "execution_count": 7,
   "metadata": {
    "scrolled": true
   },
   "outputs": [],
   "source": [
    "for c in all_data.columns.values:\n",
    "    if all_data[c].dtypes == \"object\":\n",
    "        lbl = LabelEncoder()\n",
    "        lbl.fit(list(all_data[c].values)) \n",
    "        all_data[c] = lbl.transform(list(all_data[c].values))"
   ]
  },
  {
   "cell_type": "code",
   "execution_count": 8,
   "metadata": {
    "scrolled": true
   },
   "outputs": [],
   "source": [
    "# apply log transform to target\n",
    "train[\"SalePrice\"] = np.log1p(train[\"SalePrice\"])"
   ]
  },
  {
   "cell_type": "code",
   "execution_count": 9,
   "metadata": {
    "scrolled": true
   },
   "outputs": [],
   "source": [
    "# Split the total data into train and test data set.\n",
    "train_x = all_data[:train.shape[0]]\n",
    "test_x = all_data[train.shape[0]:]\n",
    "train_y = train.SalePrice"
   ]
  },
  {
   "cell_type": "code",
   "execution_count": 10,
   "metadata": {
    "scrolled": true
   },
   "outputs": [],
   "source": [
    "# Find average RMSE using k-fold cross validation\n",
    "def rmse_cv(model, cv=5):\n",
    "    rmse = np.sqrt(-cross_val_score(model, train_x, train_y, scoring=\"neg_mean_squared_error\", cv = cv))\n",
    "    return rmse"
   ]
  },
  {
   "cell_type": "code",
   "execution_count": 15,
   "metadata": {
    "scrolled": true
   },
   "outputs": [
    {
     "name": "stdout",
     "output_type": "stream",
     "text": [
      "RMSE estimate: 0.15230955945050031, std: 0.024829105944629358\n"
     ]
    }
   ],
   "source": [
    "# Get RMSE for linear regression model\n",
    "lr = LinearRegression()\n",
    "rmse = rmse_cv(lr)\n",
    "print(\"RMSE estimate: {}, std: {}\".format(rmse.mean(), rmse.std()))\n",
    "lrm = LinearRegression().fit(train_x, train_y)\n",
    "lrm_price_prediction = np.expm1(lrm.predict(test_x))"
   ]
  },
  {
   "cell_type": "code",
   "execution_count": 16,
   "metadata": {
    "scrolled": true
   },
   "outputs": [],
   "source": [
    "with open('house_price_submission.csv', 'w') as outcsv:\n",
    "    writer = csv.writer(outcsv)\n",
    "    writer.writerow([\"Id\", \"SalePrice\"])\n",
    "    writer.writerows(zip(test['Id'].tolist(), lrm_price_prediction))"
   ]
  }
 ],
 "metadata": {
  "kernelspec": {
   "display_name": "Python 3",
   "language": "python",
   "name": "python3"
  },
  "language_info": {
   "codemirror_mode": {
    "name": "ipython",
    "version": 3
   },
   "file_extension": ".py",
   "mimetype": "text/x-python",
   "name": "python",
   "nbconvert_exporter": "python",
   "pygments_lexer": "ipython3",
   "version": "3.5.2"
  }
 },
 "nbformat": 4,
 "nbformat_minor": 2
}
